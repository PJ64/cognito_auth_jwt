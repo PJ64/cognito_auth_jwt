{
 "cells": [
  {
   "cell_type": "markdown",
   "metadata": {},
   "source": [
    "# Api Gateway with Cognito Authentication"
   ]
  },
  {
   "cell_type": "markdown",
   "metadata": {},
   "source": [
    "This example deploys a microservice with an API Gateway which uses an Amazon Cognito user pool as an authoriser. The POST method on the API Gateway allows authenticated requests only. \n",
    "\n",
    "1. The first script is the json formatter, it is used to render json in a readable format.\n",
    "\n",
    "2. The second script creates a new Cognito user, the user will need to be confirmed.\n",
    "\n",
    "3. The login in script authenticates the new user, if the authentication is successful Amazon Cognito will return a json web token (jwt)\n",
    "\n",
    "4. The jwt IdToken is passed to the API Gateway when called the post method. The API Gateway will validate the IdToken against the Cognito user pool that generated it. This is done using an 'Authorizer'.\n",
    "\n",
    "5. The final script calls an unauthenticated GET method to retrieve the item."
   ]
  },
  {
   "cell_type": "markdown",
   "metadata": {},
   "source": [
    "![architecture](../images/architecture_1.png \"Architecture\")"
   ]
  },
  {
   "cell_type": "markdown",
   "metadata": {},
   "source": [
    "**json formatter** - Run the following script to create a class which will be used to render json objects in a readable format."
   ]
  },
  {
   "cell_type": "code",
   "execution_count": 1,
   "metadata": {},
   "outputs": [],
   "source": [
    "import json, uuid\n",
    "from IPython.display import display_javascript, display_html, display\n",
    "\n",
    "class RenderJSON(object):\n",
    "    def __init__(self, json_data):\n",
    "        if isinstance(json_data, dict) or isinstance(json_data, list):\n",
    "            self.json_str = json.dumps(json_data)\n",
    "        else:\n",
    "            self.json_str = json_data\n",
    "        self.uuid = str(uuid.uuid4())\n",
    "\n",
    "    def _ipython_display_(self):\n",
    "        display_html('<div id=\"{}\" style=\"height: 600px; width:100%;font: 12px/18px monospace !important;\"></div>'.format(self.uuid), raw=True)\n",
    "        display_javascript(\"\"\"\n",
    "        require([\"https://rawgit.com/caldwell/renderjson/master/renderjson.js\"], function() {\n",
    "            renderjson.set_show_to_level(2);\n",
    "            document.getElementById('%s').appendChild(renderjson(%s))\n",
    "        });\n",
    "      \"\"\" % (self.uuid, self.json_str), raw=True)"
   ]
  },
  {
   "cell_type": "markdown",
   "metadata": {},
   "source": [
    " ### Create User\n",
    " \n",
    " **Set the following variables:**\n",
    " \n",
    " * clientId (Copy your App client id from Cognito User Pools console)\n",
    " * Username\n",
    " * Password\n",
    " * Email\n",
    " \n",
    " \n",
    " **note:** the user will need to be confirmed either by email or through the cognito console."
   ]
  },
  {
   "cell_type": "code",
   "execution_count": 2,
   "metadata": {},
   "outputs": [
    {
     "data": {
      "text/html": [
       "<div id=\"e700fa4d-055a-4666-856a-f05e31740eb3\" style=\"height: 600px; width:100%;font: 12px/18px monospace !important;\"></div>"
      ]
     },
     "metadata": {},
     "output_type": "display_data"
    },
    {
     "data": {
      "application/javascript": [
       "\n",
       "        require([\"https://rawgit.com/caldwell/renderjson/master/renderjson.js\"], function() {\n",
       "            renderjson.set_show_to_level(2);\n",
       "            document.getElementById('e700fa4d-055a-4666-856a-f05e31740eb3').appendChild(renderjson({\"UserConfirmed\": false, \"CodeDeliveryDetails\": {\"Destination\": \"p***@a***.com\", \"DeliveryMedium\": \"EMAIL\", \"AttributeName\": \"email\"}, \"UserSub\": \"35d3da17-5fbe-4664-b51a-6e82506e2435\", \"ResponseMetadata\": {\"RequestId\": \"b872e5ce-8157-4958-9310-e6e4f080b8b2\", \"HTTPStatusCode\": 200, \"HTTPHeaders\": {\"date\": \"Fri, 15 Oct 2021 02:15:18 GMT\", \"content-type\": \"application/x-amz-json-1.1\", \"content-length\": \"175\", \"connection\": \"keep-alive\", \"x-amzn-requestid\": \"b872e5ce-8157-4958-9310-e6e4f080b8b2\"}, \"RetryAttempts\": 0}}))\n",
       "        });\n",
       "      "
      ]
     },
     "metadata": {},
     "output_type": "display_data"
    }
   ],
   "source": [
    "import json, boto3, requests, datetime\n",
    "\n",
    "# Client ID goes here\n",
    "clientId = '280ckj3ro9sjkf9b38l1nchbo5'\n",
    "\n",
    "client = boto3.client('cognito-idp')\n",
    "\n",
    "signup_response = client.sign_up(\n",
    "    ClientId=clientId,\n",
    "    Username='Paul',\n",
    "    Password='Pa$$word1',\n",
    "    UserAttributes=[{'Name':'email','Value':'pjcksn@amazon.com'}])\n",
    "\n",
    "RenderJSON(signup_response)"
   ]
  },
  {
   "cell_type": "markdown",
   "metadata": {},
   "source": [
    "### Login\n",
    "Amazon Cognito will return a json web token. The IdToken will be used for authentication against the API Gateway.\n",
    "\n",
    "**note:** Make sure to confirm the user"
   ]
  },
  {
   "cell_type": "code",
   "execution_count": 3,
   "metadata": {},
   "outputs": [
    {
     "name": "stdout",
     "output_type": "stream",
     "text": [
      "dict_keys(['AccessToken', 'ExpiresIn', 'TokenType', 'RefreshToken', 'IdToken'])\n"
     ]
    }
   ],
   "source": [
    "auth_response = client.initiate_auth(\n",
    "    AuthFlow='USER_PASSWORD_AUTH',\n",
    "    AuthParameters={\n",
    "        'USERNAME' : 'Paul',\n",
    "        'PASSWORD' : 'Pa$$word1'\n",
    "    },\n",
    "    ClientId=clientId\n",
    ")\n",
    "\n",
    "print(auth_response['AuthenticationResult'].keys())"
   ]
  },
  {
   "cell_type": "markdown",
   "metadata": {},
   "source": [
    "### Call API with authentication header and token"
   ]
  },
  {
   "cell_type": "markdown",
   "metadata": {},
   "source": [
    "The IdToken is passed to the API gateway as a HTTP Authorization header\n",
    "\n",
    "**Note:** Make sure you set **gwid** to your gateway id using - *gwid = '...'*"
   ]
  },
  {
   "cell_type": "code",
   "execution_count": 4,
   "metadata": {},
   "outputs": [
    {
     "name": "stdout",
     "output_type": "stream",
     "text": [
      "a0:v0\n",
      "a1:v1\n",
      "a0:v0\n",
      "a1:v1\n"
     ]
    }
   ],
   "source": [
    "#Set gateway id\n",
    "gwid = 'da6uobcznh'\n",
    "\n",
    "import boto3, requests, datetime\n",
    "\n",
    "url = (f'https://{gwid}.execute-api.ap-southeast-2.amazonaws.com/prod/order')\n",
    "headers = {'Authorization': auth_response['AuthenticationResult']['IdToken']}\n",
    "\n",
    "for y in range(2):\n",
    "    for i in range(2):\n",
    "        x = datetime.datetime.now()\n",
    "        accountid = 'a' + str(i)\n",
    "        vendorid = 'v' + str(i)\n",
    "        orderdate = str(x)\n",
    "        coffeetype = 'Short Black'\n",
    "        coffeesize = 'Small'\n",
    "        unitprice = str(4.50 * (i + 1))\n",
    "        quantity = str(i+1)\n",
    "\n",
    "        response = requests.post(url,json={'order':{\n",
    "                    'accountid': accountid,\n",
    "                    'vendorid': vendorid,\n",
    "                    'orderdate':orderdate,\n",
    "                    'details':{\n",
    "                        'coffeetype': coffeetype,\n",
    "                        'coffeesize': coffeesize,\n",
    "                        'unitprice': unitprice,\n",
    "                        'quantity': quantity\n",
    "                    }\n",
    "                }\n",
    "            },headers=headers)\n",
    "        print(str(accountid) + ':' + str(vendorid))"
   ]
  },
  {
   "cell_type": "markdown",
   "metadata": {},
   "source": [
    "Get the item from Amazon DynamoDB using the primary key (accountid & vendorid)"
   ]
  },
  {
   "cell_type": "code",
   "execution_count": 5,
   "metadata": {},
   "outputs": [
    {
     "data": {
      "text/html": [
       "<div id=\"f1aef4a6-9a2d-462f-96d8-38eeac8341ed\" style=\"height: 600px; width:100%;font: 12px/18px monospace !important;\"></div>"
      ]
     },
     "metadata": {},
     "output_type": "display_data"
    },
    {
     "data": {
      "application/javascript": [
       "\n",
       "        require([\"https://rawgit.com/caldwell/renderjson/master/renderjson.js\"], function() {\n",
       "            renderjson.set_show_to_level(2);\n",
       "            document.getElementById('f1aef4a6-9a2d-462f-96d8-38eeac8341ed').appendChild(renderjson({\"Item\": {\"orderdate\": \"2021-09-23 11:55:34.298416\", \"vendorid\": \"v0\", \"details\": {\"coffeesize\": \"Small\", \"coffeetype\": \"Short Black\", \"quantity\": \"1\", \"unitprice\": \"4.5\"}, \"accountid\": \"a0\"}, \"ResponseMetadata\": {\"RequestId\": \"EUD62Q77GEGDG7AV0E0U1UOTGRVV4KQNSO5AEMVJF66Q9ASUAAJG\", \"HTTPStatusCode\": 200, \"HTTPHeaders\": {\"server\": \"Server\", \"date\": \"Thu, 23 Sep 2021 01:55:50 GMT\", \"content-type\": \"application/x-amz-json-1.0\", \"content-length\": \"225\", \"connection\": \"keep-alive\", \"x-amzn-requestid\": \"EUD62Q77GEGDG7AV0E0U1UOTGRVV4KQNSO5AEMVJF66Q9ASUAAJG\", \"x-amz-crc32\": \"1223984900\"}, \"RetryAttempts\": 0}}))\n",
       "        });\n",
       "      "
      ]
     },
     "metadata": {},
     "output_type": "display_data"
    }
   ],
   "source": [
    "response_get = requests.get(url, params={'accountid':'a0','vendorid':'v0'})\n",
    "\n",
    "RenderJSON(response_get.json())"
   ]
  },
  {
   "cell_type": "code",
   "execution_count": null,
   "metadata": {},
   "outputs": [],
   "source": []
  }
 ],
 "metadata": {
  "kernelspec": {
   "display_name": "Python 3",
   "language": "python",
   "name": "python3"
  },
  "language_info": {
   "codemirror_mode": {
    "name": "ipython",
    "version": 3
   },
   "file_extension": ".py",
   "mimetype": "text/x-python",
   "name": "python",
   "nbconvert_exporter": "python",
   "pygments_lexer": "ipython3",
   "version": "3.8.5"
  }
 },
 "nbformat": 4,
 "nbformat_minor": 4
}
