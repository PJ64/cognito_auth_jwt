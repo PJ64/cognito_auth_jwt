{
 "cells": [
  {
   "cell_type": "markdown",
   "metadata": {},
   "source": [
    "# Api Gateway with Cognito Authentication"
   ]
  },
  {
   "cell_type": "markdown",
   "metadata": {},
   "source": [
    "This example deploys a microservice with an API Gateway which uses an Amazon Cognito user pool as an authoriser. The POST method on the API Gateway allows authenticated requests only. \n",
    "\n",
    "1.\tThe first script is the json formatter, it is used to render json in a readable format.\n",
    "\n",
    "\n",
    "2.\tThe second script creates a new Cognito user, make sure you set the variable and confirm the user. This can be done using the Cognito console.\n",
    "\n",
    "\n",
    "Username: ```your name```\n",
    "\n",
    "Email: ```your email```\n",
    "\n",
    "Password: \n",
    "```\n",
    "Mininum length: 8 \n",
    "Require numbers: true\n",
    "Require special character: true\n",
    "Require uppercase letters: true\n",
    "Require lowercase letters: true\n",
    "```\n",
    "\n",
    "3.\tThe login in script authenticates the new user and cognito will return a json web token (jwt).\n",
    "\n",
    "\n",
    "4.\tA new order is sent to the POST method endpoint along with the jwt IdToken, the POST method is configured for authenticated requests only. The API Gateway will validate the IdToken against the Cognito user pool that generated it, this is done using an 'Authorizer'.\n",
    "\n",
    "\n",
    "5.\tThe final script calls an unauthenticated GET method to retrieve the item.\n"
   ]
  },
  {
   "cell_type": "markdown",
   "metadata": {},
   "source": [
    "![architecture](../images/architecture_1.png \"Architecture\")"
   ]
  },
  {
   "cell_type": "markdown",
   "metadata": {},
   "source": [
    "### json formatter \n",
    "Run the following script to create a class which will be used to render json objects in a readable format."
   ]
  },
  {
   "cell_type": "code",
   "execution_count": null,
   "metadata": {},
   "outputs": [],
   "source": [
    "import json, uuid\n",
    "from IPython.display import display_javascript, display_html, display\n",
    "\n",
    "class RenderJSON(object):\n",
    "    def __init__(self, json_data):\n",
    "        if isinstance(json_data, dict) or isinstance(json_data, list):\n",
    "            self.json_str = json.dumps(json_data)\n",
    "        else:\n",
    "            self.json_str = json_data\n",
    "        self.uuid = str(uuid.uuid4())\n",
    "\n",
    "    def _ipython_display_(self):\n",
    "        display_html('<div id=\"{}\" style=\"height: 600px; width:100%;font: 12px/18px monospace !important;\"></div>'.format(self.uuid), raw=True)\n",
    "        display_javascript(\"\"\"\n",
    "        require([\"https://rawgit.com/caldwell/renderjson/master/renderjson.js\"], function() {\n",
    "            renderjson.set_show_to_level(2);\n",
    "            document.getElementById('%s').appendChild(renderjson(%s))\n",
    "        });\n",
    "      \"\"\" % (self.uuid, self.json_str), raw=True)"
   ]
  },
  {
   "cell_type": "markdown",
   "metadata": {},
   "source": [
    " ### Create User\n",
    " Create a user by using the **sign_up** method on the Cognito SDK\n",
    " \n",
    " **Set the following variables:**\n",
    " \n",
    " * clientId (Copy your App client id from Cognito User Pools console)\n",
    " * Username\n",
    " * Password\n",
    " * Email\n",
    " \n",
    " \n",
    " **note:** the user will need to be confirmed either by email or through the cognito console."
   ]
  },
  {
   "cell_type": "code",
   "execution_count": null,
   "metadata": {},
   "outputs": [],
   "source": [
    "import json, boto3, requests, datetime\n",
    "\n",
    "# Client ID goes here\n",
    "clientId = '...'\n",
    "username = '...'\n",
    "password = '...'\n",
    "email = '...'\n",
    "\n",
    "client = boto3.client('cognito-idp')\n",
    "\n",
    "signup_response = client.sign_up(\n",
    "    ClientId=clientId,\n",
    "    Username=username,\n",
    "    Password=password,\n",
    "    UserAttributes=[{'Name':'email','Value':email}])\n",
    "\n",
    "RenderJSON(signup_response)"
   ]
  },
  {
   "cell_type": "markdown",
   "metadata": {},
   "source": [
    "### Login\n",
    "Login into by calling the Cognito SDK **initiate_auth** method. Amazon Cognito will return a json web token. The IdToken will be used for authentication against the API Gateway.\n",
    "\n",
    "**note:** Make sure you **confirm the user**."
   ]
  },
  {
   "cell_type": "code",
   "execution_count": null,
   "metadata": {},
   "outputs": [],
   "source": [
    "auth_response = client.initiate_auth(\n",
    "    AuthFlow='USER_PASSWORD_AUTH',\n",
    "    AuthParameters={\n",
    "        'USERNAME' : username,\n",
    "        'PASSWORD' : password\n",
    "    },\n",
    "    ClientId=clientId\n",
    ")\n",
    "\n",
    "print(auth_response['AuthenticationResult'].keys())\n",
    "print(auth_response['AuthenticationResult']['IdToken'])"
   ]
  },
  {
   "cell_type": "markdown",
   "metadata": {},
   "source": [
    "### Call API with authentication header and token"
   ]
  },
  {
   "cell_type": "markdown",
   "metadata": {},
   "source": [
    "The IdToken is passed to the API gateway as a HTTP Authorization header, the gateway validates the token using the Cognito authorizer attached to the POST method.\n",
    "\n",
    "**Note:** Make sure you set **gwid** to your gateway id using - *gwid = '...'*"
   ]
  },
  {
   "cell_type": "code",
   "execution_count": null,
   "metadata": {},
   "outputs": [],
   "source": [
    "#Set gateway id\n",
    "gwid = '...'\n",
    "\n",
    "#Set your AWS region, e.g. ap-southeast-2\n",
    "region = '...' \n",
    "\n",
    "import boto3, requests, datetime\n",
    "from random import randrange\n",
    "\n",
    "url = (f'https://{gwid}.execute-api.{region}.amazonaws.com/prod/order')\n",
    "headers = {'Authorization': auth_response['AuthenticationResult']['IdToken']}\n",
    "\n",
    "city_list=[\"Adelaide\",\"Brisbane\",\"Canberra\",\"Darwin\",\"Geelong\",\"Gold Coast\",\"Hobart\",\"Melbourne\",\"Perth\",\"Sydney\",\"Wollongong\"]\n",
    "coffeetype_list=[\"Short Black\",\"Flat White\",\"Latte\",\"Long Black\"]\n",
    "coffeesize_list=[{\"size\":\"Small\",\"price\":\"3.5\"},{\"size\":\"Medium\",\"price\":\"4.0\"},{\"size\":\"Large\",\"price\":\"4.5\"},{\"size\":\"x-Large\",\"price\":\"5.0\"}]\n",
    "\n",
    "for i in range(10):\n",
    "    accountid = 'a' + str(i)\n",
    "    vendorid = 'v' + str(i)\n",
    "    orderdate = str(datetime.datetime.now())\n",
    "    \n",
    "    #Original value-----------\n",
    "    coffeesize = randrange(4)\n",
    "    #-------------------------\n",
    "\n",
    "    quantity = randrange(10)+1\n",
    "    city = city_list[randrange(11)]\n",
    "    eventtype=\"new_order\"\n",
    "    response = requests.post(url,json={'order':{\n",
    "            'accountid': accountid,\n",
    "            'orderdate':orderdate,\n",
    "            'vendorid': vendorid,\n",
    "            'city':city,\n",
    "            'details':{\n",
    "                'coffeetype': coffeetype_list[randrange(4)],\n",
    "                'coffeesize': coffeesize_list[coffeesize][\"size\"],\n",
    "                'unitprice': coffeesize_list[coffeesize][\"price\"],\n",
    "                'quantity': quantity\n",
    "            },\n",
    "            'eventtype':[eventtype]\n",
    "        }\n",
    "    },headers=headers)\n",
    "\n",
    "print(response)"
   ]
  },
  {
   "cell_type": "markdown",
   "metadata": {},
   "source": [
    "Get the item from Amazon DynamoDB using the primary key (accountid & vendorid)"
   ]
  },
  {
   "cell_type": "code",
   "execution_count": null,
   "metadata": {},
   "outputs": [],
   "source": [
    "response_get = requests.get(url, params={'accountid':'a0','vendorid':'v0'})\n",
    "\n",
    "RenderJSON(response_get.json())"
   ]
  },
  {
   "cell_type": "code",
   "execution_count": null,
   "metadata": {},
   "outputs": [],
   "source": []
  }
 ],
 "metadata": {
  "kernelspec": {
   "display_name": "Python 3 (ipykernel)",
   "language": "python",
   "name": "python3"
  },
  "language_info": {
   "codemirror_mode": {
    "name": "ipython",
    "version": 3
   },
   "file_extension": ".py",
   "mimetype": "text/x-python",
   "name": "python",
   "nbconvert_exporter": "python",
   "pygments_lexer": "ipython3",
   "version": "3.8.12"
  }
 },
 "nbformat": 4,
 "nbformat_minor": 4
}
