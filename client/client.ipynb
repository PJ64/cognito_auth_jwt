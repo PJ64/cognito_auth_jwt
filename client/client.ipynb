{
 "cells": [
  {
   "cell_type": "markdown",
   "metadata": {},
   "source": [
    "# Api Gateway with Cognito Authentication"
   ]
  },
  {
   "cell_type": "markdown",
   "metadata": {},
   "source": [
    " ### Create User\n",
    " \n",
    " **Copy your App client id** from Cognito User Pools console and set the **clientId** variable\n",
    " \n",
    " **note:** the user will need to be confirmed either by email or through the cognito console."
   ]
  },
  {
   "cell_type": "code",
   "execution_count": 26,
   "metadata": {},
   "outputs": [
    {
     "name": "stdout",
     "output_type": "stream",
     "text": [
      "{'UserConfirmed': False, 'CodeDeliveryDetails': {'Destination': 'p***@g***.com', 'DeliveryMedium': 'EMAIL', 'AttributeName': 'email'}, 'UserSub': 'ecc70b62-5e57-4360-bcd3-b1821227a3c7', 'ResponseMetadata': {'RequestId': '9f458957-f2b3-49ae-8aad-93bc83290c15', 'HTTPStatusCode': 200, 'HTTPHeaders': {'date': 'Fri, 27 Aug 2021 03:59:33 GMT', 'content-type': 'application/x-amz-json-1.1', 'content-length': '175', 'connection': 'keep-alive', 'x-amzn-requestid': '9f458957-f2b3-49ae-8aad-93bc83290c15'}, 'RetryAttempts': 0}}\n"
     ]
    }
   ],
   "source": [
    "import json, boto3, requests, datetime\n",
    "\n",
    "# Client ID goes here\n",
    "clientId = '16bo69frup511mlkl2b6fmk0bo'\n",
    "\n",
    "client = boto3.client('cognito-idp')\n",
    "\n",
    "signup_response = client.sign_up(\n",
    "    ClientId=clientId,\n",
    "    Username='paul',\n",
    "    Password='Pa$$word1',\n",
    "    UserAttributes=[{'Name':'email','Value':'pj642615@gmail.com'}])\n",
    "\n",
    "print(signup_response)"
   ]
  },
  {
   "cell_type": "markdown",
   "metadata": {},
   "source": [
    "### Login\n",
    "**note:** Make sure to confirm the user"
   ]
  },
  {
   "cell_type": "code",
   "execution_count": 28,
   "metadata": {},
   "outputs": [
    {
     "name": "stdout",
     "output_type": "stream",
     "text": [
      "dict_keys(['AccessToken', 'ExpiresIn', 'TokenType', 'RefreshToken', 'IdToken'])\n"
     ]
    }
   ],
   "source": [
    "auth_response = client.initiate_auth(\n",
    "    AuthFlow='USER_PASSWORD_AUTH',\n",
    "    AuthParameters={\n",
    "        'USERNAME' : 'paul',\n",
    "        'PASSWORD' : 'Pa$$word1'\n",
    "    },\n",
    "    ClientId=clientId\n",
    ")\n",
    "\n",
    "print(auth_response['AuthenticationResult'].keys())"
   ]
  },
  {
   "cell_type": "markdown",
   "metadata": {},
   "source": [
    "### Call API with authentication header and token"
   ]
  },
  {
   "cell_type": "markdown",
   "metadata": {},
   "source": [
    "#### Set the gwid to the gateway id"
   ]
  },
  {
   "cell_type": "code",
   "execution_count": 52,
   "metadata": {},
   "outputs": [
    {
     "name": "stdout",
     "output_type": "stream",
     "text": [
      "{'Item': {'vendorid': 'Coffee One', 'orderdate': '2021-08-27 14:17:43.383216', 'details': {'coffeesize': 'Small', 'coffeetype': 'Short Black', 'quantity': '1', 'unitprice': '4.50'}, 'accountid': 'p150', 'orderid': '150'}, 'ResponseMetadata': {'RequestId': 'NIBJHNF255BLJ5JRN842DB9IBJVV4KQNSO5AEMVJF66Q9ASUAAJG', 'HTTPStatusCode': 200, 'HTTPHeaders': {'server': 'Server', 'date': 'Fri, 27 Aug 2021 04:17:43 GMT', 'content-type': 'application/x-amz-json-1.0', 'content-length': '258', 'connection': 'keep-alive', 'x-amzn-requestid': 'NIBJHNF255BLJ5JRN842DB9IBJVV4KQNSO5AEMVJF66Q9ASUAAJG', 'x-amz-crc32': '1906745638'}, 'RetryAttempts': 0}}\n"
     ]
    }
   ],
   "source": [
    "#Set gateway id\n",
    "gwid = 'a2g4yx6vu0'\n",
    "\n",
    "headers = {'Authorization': auth_response['AuthenticationResult']['IdToken']}\n",
    "x = datetime.datetime.now()\n",
    "orderid = '150'\n",
    "accountid = 'p150'\n",
    "vendorid = 'Coffee One'\n",
    "orderdate = str(x)\n",
    "coffeetype = 'Short Black'\n",
    "coffeesize = 'Small'\n",
    "unitprice = '4.50'\n",
    "quantity = '1'\n",
    "\n",
    "url = (f'https://{gwid}.execute-api.ap-southeast-2.amazonaws.com/prod/order')\n",
    "\n",
    "requests.post(url,json={'order':{\n",
    "            'orderid': orderid,\n",
    "            'accountid': accountid,\n",
    "            'vendorid': vendorid,\n",
    "            'orderdate':orderdate,\n",
    "            'details':{\n",
    "                'coffeetype': coffeetype,\n",
    "                'coffeesize': coffeesize,\n",
    "                'unitprice': unitprice,\n",
    "                'quantity': quantity\n",
    "            }\n",
    "        }\n",
    "    },headers=headers)\n",
    "\n",
    "response_get = requests.get(url, params={'orderid':150})\n",
    "\n",
    "print(response_get.json())"
   ]
  },
  {
   "cell_type": "code",
   "execution_count": null,
   "metadata": {},
   "outputs": [],
   "source": []
  }
 ],
 "metadata": {
  "kernelspec": {
   "display_name": "Python 3",
   "language": "python",
   "name": "python3"
  },
  "language_info": {
   "codemirror_mode": {
    "name": "ipython",
    "version": 3
   },
   "file_extension": ".py",
   "mimetype": "text/x-python",
   "name": "python",
   "nbconvert_exporter": "python",
   "pygments_lexer": "ipython3",
   "version": "3.8.5"
  }
 },
 "nbformat": 4,
 "nbformat_minor": 4
}
